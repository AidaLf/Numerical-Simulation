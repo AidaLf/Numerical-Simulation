{
  "nbformat": 4,
  "nbformat_minor": 0,
  "metadata": {
    "colab": {
      "provenance": [],
      "authorship_tag": "ABX9TyO4zj5OqTV2+HForK1jU6s1",
      "include_colab_link": true
    },
    "kernelspec": {
      "name": "python3",
      "display_name": "Python 3"
    },
    "language_info": {
      "name": "python"
    }
  },
  "cells": [
    {
      "cell_type": "markdown",
      "metadata": {
        "id": "view-in-github",
        "colab_type": "text"
      },
      "source": [
        "<a href=\"https://colab.research.google.com/github/AidaLf/Numerical-Simulation/blob/main/99216036_Aida_Latifi_Hurst_Exponent.ipynb\" target=\"_parent\"><img src=\"https://colab.research.google.com/assets/colab-badge.svg\" alt=\"Open In Colab\"/></a>"
      ]
    },
    {
      "cell_type": "code",
      "execution_count": null,
      "metadata": {
        "id": "GutBLMcLFSKw"
      },
      "outputs": [],
      "source": [
        "import random\n",
        "import numpy as np\n",
        "import math\n",
        "import matplotlib.pyplot as plt\n",
        "from scipy.stats import linregress"
      ]
    },
    {
      "cell_type": "code",
      "source": [
        "def RW(N):\n",
        "  distance=np.zeros(N)\n",
        "  for i in range(N):\n",
        "    r=random.random()\n",
        "    if r<0.5:\n",
        "      distance[i]=distance[i-1]-1\n",
        "    else:\n",
        "      distance[i]=distance[i-1]+1\n",
        "  return distance\n"
      ],
      "metadata": {
        "id": "kg2aQ-SAFS26"
      },
      "execution_count": null,
      "outputs": []
    },
    {
      "cell_type": "code",
      "source": [
        "N=1000\n",
        "X=RW(N)\n",
        "plt.plot(X)\n",
        "plt.show()"
      ],
      "metadata": {
        "colab": {
          "base_uri": "https://localhost:8080/",
          "height": 265
        },
        "id": "LIpn9a37FUWt",
        "outputId": "97f78c94-46e0-4f8f-cc4c-6306ab0b1993"
      },
      "execution_count": null,
      "outputs": [
        {
          "output_type": "display_data",
          "data": {
            "text/plain": [
              "<Figure size 432x288 with 1 Axes>"
            ],
            "image/png": "[encoded data removed]"
          },
          "metadata": {
            "needs_background": "light"
          }
        }
      ]
    },
    {
      "cell_type": "code",
      "source": [
        "def RS_Ratio(data,n,m):\n",
        "\n",
        "  #calculating the mean of our data\n",
        "  M=np.zeros(n)\n",
        "  for i in range(n):\n",
        "    X=data[i]\n",
        "    M[i]=np.mean(X)\n",
        "\n",
        "  #calculating STD of our chunk\n",
        "    S=np.zeros(m)\n",
        "    for t in range(m):\n",
        "      S[t]=np.std(data[:t+1])\n",
        "\n",
        "  #Creating a mean centered series by subtracting the mean from the observations\n",
        "    Y=np.zeros(m)\n",
        "    for t in range(m):\n",
        "      Y[t]=X[t]-M[i]\n",
        "\n",
        "  #Then we calculate the cumulative deviation by summing up the mean centred values\n",
        "    Z=np.zeros(m)\n",
        "    for t in range(m):\n",
        "        Z[t]=np.sum(Y[:t+1])\n",
        "\n",
        "  #Calculating the Range which is the difference between the maximum value of the cumulative\n",
        "  #deviation and the minimum value of the cumulative deviation\n",
        "    R=np.zeros(m)\n",
        "    for t in range(m):\n",
        "        R[t]=np.max(Z[:t+1])-np.min(Z[:t+1])\n",
        "  return (np.mean(R/S))\n",
        "      \n",
        "\n",
        "\n",
        "\n",
        "\n",
        "\n",
        "  "
      ],
      "metadata": {
        "id": "Y6kneurnJEhz"
      },
      "execution_count": null,
      "outputs": []
    },
    {
      "cell_type": "code",
      "source": [
        "#First we divide our data into chunks\n",
        "size=[2,4,8,10,25,50,100]\n",
        "chunks=np.empty(len(size))\n",
        "RS=np.zeros(len(size))\n",
        "index=0\n",
        "\n",
        "#Calculating the mean R/S for each size\n",
        "for i in size:\n",
        "  arr=np.reshape(X,(i,int(N/i)))\n",
        "  RS[index]=RS_Ratio(arr,i,int(N/i))\n",
        "  index+=1\n",
        "\n",
        "#Plotting the logarithm of R/S and the size of our chunks. \n",
        "plt.scatter(np.log(RS),-np.log(size))\n",
        "\n",
        "#Fitting a line to our plot and calculating the slope of the line fitted to plot\n",
        "line=linregress(np.log(RS),-np.log(size))\n",
        "p=np.arange(0,6,0.5)\n",
        "def Line(x):\n",
        "  return line.slope*x+line.intercept\n",
        "\n",
        "plt.plot(p,Line(p), color='Red')\n",
        "plt.xlabel('Ln(Size)')\n",
        "plt.ylabel('Ln(R/S)')\n",
        "plt.show()\n",
        "\n",
        "#we take H to be hurst exponent and D the dimention of our random walk\n",
        "H=line.slope\n",
        "D=2-H\n",
        "print(\"The hurst exponent is: \",H)\n",
        "print(\"The fractal dimention is: \", D)\n",
        "\n",
        "\n"
      ],
      "metadata": {
        "colab": {
          "base_uri": "https://localhost:8080/",
          "height": 317
        },
        "id": "LFTgTJSZFXh_",
        "outputId": "e0f6c6c6-1ace-4802-935b-41c8576967a1"
      },
      "execution_count": null,
      "outputs": [
        {
          "output_type": "display_data",
          "data": {
            "text/plain": [
              "<Figure size 432x288 with 1 Axes>"
            ],
            "image/png": "[encoded data removed]"
          },
          "metadata": {
            "needs_background": "light"
          }
        },
        {
          "output_type": "stream",
          "name": "stdout",
          "text": [
            "The hurst exponent is:  0.6288220579451179\n",
            "The fractal dimention is:  1.371177942054882\n"
          ]
        }
      ]
    },
    {
      "cell_type": "markdown",
      "source": [
        "We expect the the fractal dimention of a random walk to be 1.5. Given the results we got, it's safe to say this is not a good method for calculating the fractal dimention of a random walk.\n",
        "Perhaps the mf-dfa (multifractal detrended fluctuation analysis) method would provide us with more accurate result."
      ],
      "metadata": {
        "id": "fTchZN7wkzMW"
      }
    }
  ]
}